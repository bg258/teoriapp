{
 "cells": [
  {
   "cell_type": "markdown",
   "metadata": {},
   "source": [
    "# **5. Trafikksystemet** \n",
    "Trafikksystemet består av fire deler: trafikkstyringen, veien, kjøretøyene og trafikantene. Din atferd i trafikken og samspillet mellom de ulike delene av trafikksystemet styres i stor grad av lover og regler i vegtrafikkloven og trafikkreglene. I tillegg styres trafikken gjennom veioppmerking, skilt og trafikklys.\n",
    "\n",
    "I kapittel 5 skal vi gå igjennom:\n",
    "* 5.1 Trafikkreglene og vegtrafikkloven\n",
    "* 5.2 Vei og veioppmerking\n",
    "* 5.3 Skilt\n",
    "* 5.4 Trafikklys\n",
    "* 5.5 Politi\n",
    "* 5.6 Myndighetspyramiden\n",
    "* 5.7 Trafikantene\n",
    "* 5.8 Oppsummering\n",
    "\n",
    "---"
   ]
  },
  {
   "cell_type": "markdown",
   "metadata": {},
   "source": [
    "## **5.1 Trafikkreglene og vegtrafikkloven** \n",
    "Uten et sett med spilleregler som alle følger, ville trafikken vært kaotisk og livsfarlig. Derfor har vi lover, regler og forskrifter som regulerer hvordan alle elementene i trafikksystemet skal fungere og hvordan vi skal oppføre oss i trafikken.\n",
    "\n",
    "Gjennom lovgivningen har myndighetene gitt oss både generelle og spesielle regler om adferd i trafikken, krav til kjøretøy, krav til utforming av veimiljøet og til trafikkstyringen.\n",
    "\n",
    "### 💡 **Regulering av trafikk** <br>\n",
    "Det største og kanskje viktigste temaet i klasse B heter regulering av trafikk. Regulering av trafikk dekker alt innenfor trafikksystemet - Altså alt av skilt, trafikkoppmerking, lover og regler for trafikken. Du bør derfor lese dette kapittelet flere ganger."
   ]
  },
  {
   "cell_type": "markdown",
   "metadata": {},
   "source": [
    "### **Viktig lover og regler** ⚖️ <br>\n",
    "Forhold som vikeplikt, stans og parkering, fart, feltskifte, bruk av lys og signaler, osv. blir styrt gjennom flere ulike lover og regler. De viktigste av disse er vegtrafikkloven og trafikkreglene. \n",
    "\n",
    "**Vegtrafikkloven** <br>\n",
    "Vegtrafikkloven inneholder mange viktige bestemmelser som regulerer vår adferd i trafikken. Spesielt viktig er «Grunnregler for trafikk» som er hovedbestemmelsen om adferd i trafikken.\n",
    "\n",
    "Vegtrafikklovens bestemmelser gjelder all trafikk med motorvogn i Norge. Bestemmelsene gjelder også syklende og andre som ferdes i trafikken, når de er på vei eller område hvor det normalt kjører biler eller andre motorvogner.\n",
    "\n",
    "### 💡 **Vegtrafikkloven** <br>\n",
    "Vegtrafikkloven har bestemmelser om fart, rus, plikter ved trafikkuhell, øvingskjøring, overtredelser og straff, blant annet.\n",
    "\n",
    "### 💡**Trafikkreglene** <br>\n",
    "«Forskrift om kjørende og gående trafikk» – bedre kjent som trafikkreglene – inneholder bestemmelser om adferd i trafikken.\n",
    "Trafikkreglene gjelder på offentlig eller privat vei, gate eller plass som er åpen for alminnelig ferdsel. I trafikkreglene står det bestemmelser om bruk av kjørebanen, kjøretøyets plassering i kjørebanen, feltskifte, vikeplikt, plikter overfor gående, rygging og vending, spesielle fartsbestemmelser, stans og parkering, blant annet.\n"
   ]
  },
  {
   "cell_type": "markdown",
   "metadata": {},
   "source": [
    "### **Grunnlegende for trafikk** <br>\n",
    "Vegtrafikklovens paragraf 3 legger grunnlaget for all atferd i trafikken, og kalles derfor også grunnregelen for trafikk. Du skal alltid ha grunnregelen i bakhodet når du ferdes i trafikken. Når noen ikke følger grunnregelen oppstår det lett trafikkfarlige situasjoner, og brudd på denne paragrafen er derfor ofte grunnlag for å miste førerkortet i en periode.\n",
    "\n",
    "**Grunnregelen for trafikk sier:** <br>\n",
    "«Enhver skal ferdes hensynsfullt og være aktpågivende og varsom så det ikke kan oppstå fare eller voldes skade og slik at annen trafikk ikke unødig blir hindret eller forstyrret.»\n",
    "\n",
    "«Vegfarende skal også vise hensyn mot dem som bor eller oppholder seg ved vegen.»\n",
    "\n",
    "**Når du kjører er det altså din grunnleggende plikt å være:**\n",
    "* **Hensynsfull** – Ta hensyn til andre trafikanters behov og ikke bare dine egne.\n",
    "* **Aktpågivende** – Vær konsentrert og oppmerksom og følge nøye med i trafikken.\n",
    "* **Varsom** – Kjøre på en måte som reduserer risiko for uhell og skader. Avpass farten etter forholdene og vis dine medtrafikanter på en tydelig måte, og i god tid, hva du ønsker å foreta deg.\n",
    "\n",
    "\n",
    "\n"
   ]
  }
 ],
 "metadata": {
  "language_info": {
   "name": "python"
  }
 },
 "nbformat": 4,
 "nbformat_minor": 2
}
