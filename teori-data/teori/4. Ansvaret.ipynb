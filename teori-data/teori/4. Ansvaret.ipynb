{
 "cells": [
  {
   "cell_type": "markdown",
   "metadata": {},
   "source": [
    "# Kapittel 4 - Ansvaret \n",
    "Med bilkjøringen følger det et stort ansvar og det kreves at du kjenner til dine plikter som både eier og fører av et kjøretøy. Du må kjenne til innholdet i relevante lover, forskrifter og regler, og vite hva reaksjonene kan bli dersom du ikke følger dem.\n",
    "\n",
    "## **4.1 Bilens stand og bruk** 🔩\n",
    "### **Bilens stand og bruk**\n",
    "**Før kjøring**\n",
    "Etter vegtrafikkloven har du et ansvar for å vite at bilen er i forsvarlig og forskriftsmessig stand før kjøring.\n",
    "\n",
    "**Under kjøring**\n",
    "Du har også ansvar for at bilen skal være i forsvarlig stand under kjøring. Hvis en feil oppstår under kjøring kan du altså fortsette såfremt feilen ikke har betydning for trafikksikkerheten.\n",
    "\n",
    "💡**Hvis du låner bort bilen din...**\n",
    "* er du ansvarlig for at bilen er i forsvarlig stand når du låner den fra deg. \n",
    "* er du også ansvarlig for at den som låner bilen din har gyldig førerkort og er **skikket** til å kjøre. \n",
    "\n"
   ]
  }
 ],
 "metadata": {
  "language_info": {
   "name": "python"
  }
 },
 "nbformat": 4,
 "nbformat_minor": 2
}
