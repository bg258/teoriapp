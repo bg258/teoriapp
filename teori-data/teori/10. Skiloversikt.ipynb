{
 "cells": [
  {
   "cell_type": "markdown",
   "metadata": {},
   "source": [
    "# **kapittel 10 - Skiltoversikt** 🚷"
   ]
  },
  {
   "cell_type": "markdown",
   "metadata": {},
   "source": [
    "## **10.1 Fareskilt**"
   ]
  },
  {
   "cell_type": "markdown",
   "metadata": {},
   "source": [
    "## **10.2 Vikeplikt- og forkjørsskilt**"
   ]
  },
  {
   "cell_type": "markdown",
   "metadata": {},
   "source": [
    "## **10.3 Forbudsskilt**\n",
    "\n",
    "### ⭕️ **(1/7)**\n",
    "\n",
    "**302 Innkjøring forbudt**<br>\n",
    "Skiltet står foran vei du ikke har lov til å kjøre inn. Det brukes hovedsakelig foran enveiskjørte gater.\n",
    "\n",
    "![302](skilter/forbudsskilt/302.png)\n",
    "\n",
    "**306.0 Forbudt for alle kjøretøy**<br>\n",
    "Dette skiltet står foran vei der det er forbudt for alle kjøretøy å ferdes. Forbudet gjelder fra skiltet og frem til neste kryss. Det er lov til å trille sykkel og moped\n",
    "\n",
    "![306](skilter/forbudsskilt/306.0.png) <br>\n",
    "\n",
    "**306.1 Forbudt for motorvogn**\n",
    "Dette skiltet brukes for å forby eller begrense kjøring med motorvogn. Skiltet har ofte underskilt som spesifiserer tidsrom, visse kjøretøy eller forbud mot gjennomkjøring. \n",
    "\n",
    "![306](skilter/forbudsskilt/306.1.png)\n",
    "\n",
    "**306.3 Forbudt for traktor og for motorredskap konstruert for fart mindre enn 40 km/t**<br>\n",
    "Forbudt for alle traktorer. Også de som kan kjøre over 40 km/t. Skiltet brukes på vei der det er viktig at trafikken opprettholder høy fart. \n",
    "\n",
    "![306](skilter/forbudsskilt/306.3.png)\n",
    "\n",
    "**306.4 Forbudt for motorsykkel og moped**<br>\n",
    "Brukes når trafikk med motorsykkel og moped skal forbys eller begrenses. \n",
    "\n",
    "![306](skilter/forbudsskilt/306.4.png)\n",
    "\n",
    "**306.5 Forbudt for lastebil og trekkbil**\n",
    "Skiltet brukes når det er ønskelig å forby eller begrense trafikk med lastebil og trekkbil av andre årsaker enn **breddebegrensninger**, **høydebregrensninger**, **lengdebegrensninger** og **vektbregrensninger**\n",
    "\n",
    "![306](skilter/forbudsskilt/306.5.png)"
   ]
  },
  {
   "cell_type": "markdown",
   "metadata": {},
   "source": [
    "### ⭕️ **(2/7)**<br>\n",
    "![306](skilter/forbudsskilt/306.6.png)\n",
    "\n",
    "**306.6 Forbudt for syklende**<br>\n",
    "Skiltet skal brukes når det av trafikksikkerhetsmessige grunner er nødvendig å forby sykkeltrafikk på en veistrekning. Dette er typisk på større hovedveier med stor trafikk og høy fartsnivå. \n",
    "\n",
    "**306.7 Forbudt for gående**<br>\n",
    "Dette skiltet brukes når det av trafikksikkerhetsmessige grunner er nødvendig å forby gangtrafikk på en veistrekning. Skiltet gjelder sånn sett bare for gående. \n",
    "\n",
    "**306.8 Forbudt for gående og syklende**<br>\n",
    "Dette skiltet brukes når det av trafikksikkerhetsmessige grunner er nødvendig å forby både gang og sykkeltrafikk på en veistrekning. Dette vil typisk være ved tunneler eller på større hovedveier med stor trafikk og høy fartsnivå. \n",
    "\n",
    "![306](skilter/forbudsskilt/306.9.png)\n",
    "\n",
    "**306.9 Forbudt for ridende**<br>\n",
    "Skilt 306.9 brukes når det er nødvendig å forby riding på en veistrekning. Skiltet skal bare brukes i spesielle tilfeller hvor ridende er til stor ulempe for den øvrige trafikk. \n",
    "\n",
    "**308 Forbudt for transport av farlig gods**<br>\n",
    "Dette skiltet brukes når hensynet til trafikksikkerhet eller miljø gjør det nødvendig å forby transport med farlig gods på en veistrekning. Slikt forbud kan særlig være aktuelt for tunneler med stor lengde eller stor trafikkmengde. Forbudet gjelder for kjøretøy som har med seg farlig gods som er nevnt i forskrift 1. desember 2006 nr.1331 om transport av farlig gods på vei og jernbane.\n",
    "\n",
    "**310 Forbudt for motorvogn med flere enn to hjul og med tillatt totalvekt høyere enn angitt.**<br>\n",
    "Her er vektbegrensningen 3,5 tonn tillatt totalvekt. Hva som er ditt kjøretøys tillatte totalvekt finner du i vognkortet.\n"
   ]
  },
  {
   "cell_type": "markdown",
   "metadata": {},
   "source": [
    "---"
   ]
  },
  {
   "cell_type": "markdown",
   "metadata": {},
   "source": [
    "### ⭕️ **(3/7)**<br>\n",
    "![306](skilter/forbudsskilt/312.png)\n",
    "\n",
    "**312 Breddegrense** <br>\n",
    "Skiltet angir maksbredde på kjøretøy med gods inkludert. Dette skiltet setter grensen til 2,3 meter. \n",
    "\n",
    "**314 Høydegrense** <br>\n",
    "Skiltet skal brukes ved alle tunneler når målt høyde er mindre enn 4,60 meter og angir maks høyde på kjøretøy inkludert gods. I dette eksemplet er grensen 3,5 meter. \n",
    "\n",
    "**316 Lengdegrense** <br>\n",
    "Skiltet angir lengdegrense på kjøretøy, med gods og eventuelle påheng inkludert. Her er grensen 10 meter\n",
    "\n",
    "![306](skilter/forbudsskilt/318.png)\n",
    "\n",
    "**318.1 Totalvektgrense for kjøretøy** <br>\n",
    "Skiltet angir maksvekst for ett kjøretøy med eventuell last for kommende strekning. Har du flere kjøretøy - altså vogntog - kan hvert av kjøretøyene veie maks vekten som er angitt. Dette skiltet angir grense på 12 tonn. \n",
    "\n",
    "**318.2 Totalvektgrense for vogntog** <br>\n",
    "Skiltet gjelder for vogntog. Kjøretøyene i et vogntog kan ikke veie mer enn den angitte vekten sammenlagt. Enkeltkjøretøy kan heller ikke veie mer enn angitt vekt. Angitt vekt er her 30 tonn. \n",
    "\n",
    "**320 Aksellastgrense** <br>\n",
    "Dette skiltet gjelder for tyngre kjøretøy og angir maksimal aksellast. For boggiaksel skal angitt vekt på skiltet ganges med 1,5 og for trippelboggi skal angitt vekt ganges med 2. Angitt aksellast er her 3 tonn. \n"
   ]
  },
  {
   "cell_type": "markdown",
   "metadata": {},
   "source": [
    "### ⭕️ **(4/7)**<br>\n",
    "![306](skilter/forbudsskilt/322.png)\n",
    "\n",
    "**322 Boggilastgrense** <br>\n",
    "Dette skiltet gjelder også bare for tyngre kjøretøy og angir maksimal boggilast for en strekning. Her er 10 tonn. \n",
    "\n",
    "**324 Stopp for angitt formål** <br>\n",
    "Skiltet varsler om påbudt stopp for kontroll. Det er altså ikke lov til å kjøre videre før kontroll er foretatt. Skiltet finnes også i en variant som varsler om stopp for avgift. \n",
    "\n",
    "**326 Stopp for toll** <br>\n",
    "Skilt 326 brukes for å angi sted hvor det skal foretas tollklarering og angir plikt til å stanse for tollklarering i samsvar med gjeldende tollbestemmelse. \n",
    "\n",
    "\n",
    "![306](skilter/forbudsskilt/330.png)\n",
    "\n",
    "**330.1 Svingeforbud** <br>\n",
    "Svingeforbud brukes for å forby høyresving i veikryss eller avkjørsel. Svingeforbud kan være nødvendig på grunn av dårlig sikt eller plass, av hensyn til trafikkavvikling eller for å hindre feilkjøring inn i motgående enveiskjørt gate. \n",
    "\n",
    "**330.2 Svingeforbud** \n",
    "Som forrige skilt, men her for å forby venstresving i veikryss eller avkjørsel. \n",
    "\n",
    "**332 Vendingsforbud**\n",
    "Skilt 332 brukes der vending skal være forbudt. Reguleringen er ikke bare begrenset til å gjelde \"U-sving\", men omfatter også andre former for vendings manøvrer, som for eksempel rygging inn på eller ut av kryssende vei eller avkjørsel for å gjennomføre vending. Skiltet gjelder fra der det er satt opp og fram til og med første veikryss. "
   ]
  },
  {
   "cell_type": "markdown",
   "metadata": {},
   "source": [
    "### ⭕️ **(5/7)**<br>\n",
    "![306](skilter/forbudsskilt/334.png)\n",
    "![306](skilter/forbudsskilt/362.png)\n",
    "\n",
    "**334 Forbikjøringsforbud** <br>\n",
    "Skiltet angir forbud mot å kjøre forbi motorvogn med flere enn to hjul. Forbudet gjelder helt til det oppheves med skilt, eller i den strekningen som angis med underskilt. Skiltet settes typisk opp der sikt og forhold for forbikjøring kan virke god nok, men ikke er det. \n",
    "\n",
    "**335 Forbikjøringsforbud for lastebil** <br>\n",
    "Lastebiler, definert som motorvogn, med tillatt totaltvekt på over 3500 kg, kan ikke kjøre forbi motorvogn med mer enn to hjul. Forbudet gjelder til det oppheves med skilt, eller i den strekningen som er oppgitt på underskilt. \n",
    "\n",
    "**336 Slutt på forbikjøringsforbud** <br>\n",
    "Skiltet opphever forbudet mot forbikjøring av kjøretøy med mer enn to hjul. \n",
    "\n",
    "**337 Slutt på forbikjøringsforbud for lastebil** <br>\n",
    "Dette skiltet opphever forbudet mot at lastebiler kjører forbi kjøretøy på mer enn to hjul. \n",
    "\n",
    "**362 Fartsgrense** <br>\n",
    "Forbudt å kjøre fortere enn farten som er angitt på skiltet. Skiltet gjelder helt til annen fartsgrense er angitt, enten med nytt fartsgrenseskilt eller med skiltet *Slutt på særskilt fartsgrense (364).* Når skiltet kun står på høyre siden av veien er dette for å gjenta gjeldende fartsgrense. \n",
    "\n",
    "**364 Slutt på særskilt fartsgrense** <br>\n",
    "Når fartsgrensen oppheves med dette skiltet, er det den generelle fartsgrense som gjelder. Skiltet skal bare benyttes utenfor tettbygd strøk, så det betyr at ny fartsgrense er 80 km/t. \n"
   ]
  },
  {
   "cell_type": "markdown",
   "metadata": {},
   "source": [
    "### ⭕️ **(6/7)**<br>\n",
    "![366](skilter/forbudsskilt/366.png)\n",
    "\n",
    "**366 Fartsgrensesone** <br>\n",
    "Skiltet angir fartsgrense på 30km/t i et større, avgrenset område med flere veier. For eksempel på et boligområde, sentrumsområde eller andre områder hvor soneskiltning er hensiktsmessig. \n",
    "\n",
    "**368 Slutt på fartsgrensesone** <br>\n",
    "30-sone oppheves, og det er de generelle fartsgrensene som gjelder. Ettersom fartsgrensesone som regel benyttes i tettbygd strøk blir fartsgrensen sannssynligvis 50 km/t. \n",
    "\n",
    "**370 Stans forbudt** <br>\n",
    "Skiltet angir forbud mot å stanse kjøretøy på den side av veien hvor skiltet er satt opp. Forbudet gjelder til neste veikryss eller til andre skilt opphever forbudet. \n",
    "\n",
    "![372](skilter/forbudsskilt/372.png)\n",
    "\n",
    "**372 Parkering forbudt** <br>\n",
    "Skiltet angir forbud mot parkering på den side av veien hvor skiltet er satt opp. Skiltet gjelder frem til neste veikryss, eller til andre skilt opphever forbudet. \n",
    "\n",
    "**376.1 Parkeringssone** <br>\n",
    "Skiltet angir parkeringsregler for et større område. Skiltet viser at man kan stå parkert maks 1 time på hverdager mellom 08:00 til 18:00. Utenfor dette tidsrommet kan man parkere uten begrensning på 1 time. Skiltet gjelder til det oppheves med slutt på parkeringsskilt.\n",
    "\n",
    "**376.2 Parkeringssone** <br>\n",
    "Skiltet angir parkeringsbestemmelser for et større område. Skiltet viser at parkering er forbudt mellom 08:00 og 18:00 på hverdager, og 08:00 og 16:00 på lørdager. Utenfor dette tidsrommet er parkering tillat. Skiltet gjelder til det oppheves av slutt på parkeringssoneskilt. Noen områder i en sone kan være regulert av andre parkeringsskilt. \n",
    "\n",
    "![378](skilter/forbudsskilt/378.png)\n",
    "\n",
    "**378.1 Slutt på parkeringssone** <br>\n",
    "Skilt 378 skal anvendes for å oppheve parkeringssone. Slik sone oppheves ikke av andre parkeringsregulerende skilt. \n",
    "\n",
    "**378.2 Slutt på parkeringssone** <br>\n",
    "Skilt 378 skal anvendes for å oppheve soneregulering angitt med skiltet Parkeringssone. Slik sone oppheves ikke av andre parkeringsregulerende skilt. "
   ]
  },
  {
   "cell_type": "markdown",
   "metadata": {},
   "source": [
    "## **10.4 Påbudsskilt**"
   ]
  },
  {
   "cell_type": "markdown",
   "metadata": {},
   "source": [
    "## **10.5 Opplysningsskilt**"
   ]
  },
  {
   "cell_type": "markdown",
   "metadata": {},
   "source": [
    "## **10.6 Serviceskilt**"
   ]
  },
  {
   "cell_type": "markdown",
   "metadata": {},
   "source": [
    "## **10.7 Vegvisningskilt**"
   ]
  },
  {
   "cell_type": "markdown",
   "metadata": {},
   "source": [
    "## **10.8 Underskilt**"
   ]
  },
  {
   "cell_type": "markdown",
   "metadata": {},
   "source": [
    "## **10.9 Markeringsskilt**"
   ]
  }
 ],
 "metadata": {
  "language_info": {
   "name": "python"
  }
 },
 "nbformat": 4,
 "nbformat_minor": 2
}
