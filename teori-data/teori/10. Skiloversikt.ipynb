{
 "cells": [
  {
   "cell_type": "markdown",
   "metadata": {},
   "source": [
    "# **kapittel 10 - Skiltoversikt** 🚷"
   ]
  },
  {
   "cell_type": "markdown",
   "metadata": {},
   "source": [
    "## **10.1 Fareskilt**"
   ]
  },
  {
   "cell_type": "markdown",
   "metadata": {},
   "source": [
    "## **10.2 Vikeplikt- og forkjørsskilt**"
   ]
  },
  {
   "cell_type": "markdown",
   "metadata": {},
   "source": [
    "## **10.3 Forbudsskilt**\n",
    "\n",
    "### ⭕️ **(1/7)**\n",
    "\n",
    "**302 Innkjøring forbudt**<br>\n",
    "Skiltet står foran vei du ikke har lov til å kjøre inn. Det brukes hovedsakelig foran enveiskjørte gater.\n",
    "\n",
    "![302](skilter/forbudsskilt/302.png)\n",
    "\n",
    "**306.0 Forbudt for alle kjøretøy**<br>\n",
    "Dette skiltet står foran vei der det er forbudt for alle kjøretøy å ferdes. Forbudet gjelder fra skiltet og frem til neste kryss. Det er lov til å trille sykkel og moped\n",
    "\n",
    "![306](skilter/forbudsskilt/306.0.png) <br>\n",
    "\n",
    "**306.1 Forbudt for motorvogn**\n",
    "Dette skiltet brukes for å forby eller begrense kjøring med motorvogn. Skiltet har ofte underskilt som spesifiserer tidsrom, visse kjøretøy eller forbud mot gjennomkjøring. \n",
    "\n",
    "![306](skilter/forbudsskilt/306.1.png)\n",
    "\n",
    "**306.3 Forbudt for traktor og for motorredskap konstruert for fart mindre enn 40 km/t**<br>\n",
    "Forbudt for alle traktorer. Også de som kan kjøre over 40 km/t. Skiltet brukes på vei der det er viktig at trafikken opprettholder høy fart. \n",
    "\n",
    "![306](skilter/forbudsskilt/306.3.png)\n",
    "\n",
    "**306.4 Forbudt for motorsykkel og moped**<br>\n",
    "Brukes når trafikk med motorsykkel og moped skal forbys eller begrenses. \n",
    "\n",
    "![306](skilter/forbudsskilt/306.4.png)\n",
    "\n",
    "**306.5 Forbudt for lastebil og trekkbil**\n",
    "Skiltet brukes når det er ønskelig å forby eller begrense trafikk med lastebil og trekkbil av andre årsaker enn **breddebegrensninger**, **høydebregrensninger**, **lengdebegrensninger** og **vektbregrensninger**\n",
    "\n",
    "![306](skilter/forbudsskilt/306.5.png)"
   ]
  },
  {
   "cell_type": "markdown",
   "metadata": {},
   "source": [
    "### ⭕️ **(2/7)**<br>\n",
    "![306](skilter/forbudsskilt/306.6.png)\n",
    "\n",
    "**306.6 Forbudt for syklende**<br>\n",
    "Skiltet skal brukes når det av trafikksikkerhetsmessige grunner er nødvendig å forby sykkeltrafikk på en veistrekning. Dette er typisk på større hovedveier med stor trafikk og høy fartsnivå. \n",
    "\n",
    "**306.7 Forbudt for gående**<br>\n",
    "Dette skiltet brukes når det av trafikksikkerhetsmessige grunner er nødvendig å forby gangtrafikk på en veistrekning. Skiltet gjelder sånn sett bare for gående. \n",
    "\n",
    "**306.8 Forbudt for gående og syklende**<br>\n",
    "Dette skiltet brukes når det av trafikksikkerhetsmessige grunner er nødvendig å forby både gang og sykkeltrafikk på en veistrekning. Dette vil typisk være ved tunneler eller på større hovedveier med stor trafikk og høy fartsnivå. "
   ]
  },
  {
   "cell_type": "markdown",
   "metadata": {},
   "source": [
    "![306](skilter/forbudsskilt/306.9.png)\n",
    "\n",
    "**306.9 Forbudt for ridende**\n",
    "Skilt 306.9 brukes når det er nødvendig å forby riding på en veistrekning. Skiltet skal bare brukes i spesielle tilfeller hvor ridende er til stor ulempe for den øvrige trafikk. \n",
    "\n",
    "**308 Forbudt for transport av farlig gods**\n",
    "Dette skiltet brukes når hensynet til trafikksikkerhet eller miljø gjør det nødvendig å forby transport med farlig gods på en veistrekning. Slikt forbud kan særlig være aktuelt for tunneler med stor lengde eller stor trafikkmengde. Forbudet gjelder for kjøretøy som har med seg farlig gods som er nevnt i forskrift 1. desember 2006 nr.1331 om transport av farlig gods på vei og jernbane.\n",
    "\n",
    "**310 Forbudt for motorvogn med flere enn to hjul og med tillatt totalvekt høyere enn angitt.**\n",
    "Her er vektbegrensningen 3,5 tonn tillatt totalvekt. Hva som er ditt kjøretøys tillatte totalvekt finner du i vognkortet.\n"
   ]
  },
  {
   "cell_type": "markdown",
   "metadata": {},
   "source": [
    "---"
   ]
  },
  {
   "cell_type": "markdown",
   "metadata": {},
   "source": [
    "## **10.4 Påbudsskilt**"
   ]
  },
  {
   "cell_type": "markdown",
   "metadata": {},
   "source": [
    "## **10.5 Opplysningsskilt**"
   ]
  },
  {
   "cell_type": "markdown",
   "metadata": {},
   "source": [
    "## **10.6 Serviceskilt**"
   ]
  },
  {
   "cell_type": "markdown",
   "metadata": {},
   "source": [
    "## **10.7 Vegvisningskilt**"
   ]
  },
  {
   "cell_type": "markdown",
   "metadata": {},
   "source": [
    "## **10.8 Underskilt**"
   ]
  },
  {
   "cell_type": "markdown",
   "metadata": {},
   "source": [
    "## **10.9 Markeringsskilt**"
   ]
  }
 ],
 "metadata": {
  "language_info": {
   "name": "python"
  }
 },
 "nbformat": 4,
 "nbformat_minor": 2
}
