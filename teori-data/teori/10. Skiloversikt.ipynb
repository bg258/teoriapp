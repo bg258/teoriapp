{
 "cells": [
  {
   "cell_type": "markdown",
   "metadata": {},
   "source": [
    "# **kapittel 10 - Skiltoversikt** 🚷"
   ]
  },
  {
   "cell_type": "markdown",
   "metadata": {},
   "source": [
    "## **10.1 Fareskilt**"
   ]
  },
  {
   "cell_type": "markdown",
   "metadata": {},
   "source": [
    "## **10.2 Vikeplikt- og forkjørsskilt**"
   ]
  },
  {
   "cell_type": "markdown",
   "metadata": {},
   "source": [
    "## **10.3 Forbudsskilt**\n",
    "\n",
    "### ⭕️ **(1/7)**\n",
    "\n",
    "**302 Innkjøring forbudt**<br>\n",
    "Skiltet står foran vei du ikke har lov til å kjøre inn. Det brukes hovedsakelig foran enveiskjørte gater.\n",
    "\n",
    "![302](skilter/forbudsskilt/302.png)\n",
    "\n",
    "**306.0 Forbudt for alle kjøretøy**<br>\n",
    "Dette skiltet står foran vei der det er forbudt for alle kjøretøy å ferdes. Forbudet gjelder fra skiltet og frem til neste kryss. Det er lov til å trille sykkel og moped\n",
    "\n",
    "![306](skilter/forbudsskilt/306.0.png) <br>\n",
    "\n",
    "**306.1 Forbudt for motorvogn**\n",
    "Dette skiltet brukes for å forby eller begrense kjøring med motorvogn. Skiltet har ofte underskilt som spesifiserer tidsrom, visse kjøretøy eller forbud mot gjennomkjøring. \n",
    "\n",
    "![306](skilter/forbudsskilt/306.1.png)\n",
    "\n",
    "**306.3 Forbudt for traktor og for motorredskap konstruert for fart mindre enn 40 km/t**<br>\n",
    "Forbudt for alle traktorer. Også de som kan kjøre over 40 km/t. Skiltet brukes på vei der det er viktig at trafikken opprettholder høy fart. \n",
    "\n",
    "![306](skilter/forbudsskilt/306.3.png)\n",
    "\n",
    "**306.4 Forbudt for motorsykkel og moped**<br>\n",
    "Brukes når trafikk med motorsykkel og moped skal forbys eller begrenses. \n",
    "\n",
    "![306](skilter/forbudsskilt/306.4.png)\n",
    "\n",
    "**306.5 Forbudt for lastebil og trekkbil**\n",
    "Skiltet brukes når det er ønskelig å forby eller begrense trafikk med lastebil og trekkbil av andre årsaker enn **breddebegrensninger**, **høydebregrensninger**, **lengdebegrensninger** og **vektbregrensninger**\n",
    "\n",
    "![306](skilter/forbudsskilt/306.5.png)\n",
    "\n",
    "### ⭕️ **(2/7)**"
   ]
  },
  {
   "cell_type": "markdown",
   "metadata": {},
   "source": [
    "## **10.4 Påbudsskilt**"
   ]
  },
  {
   "cell_type": "markdown",
   "metadata": {},
   "source": [
    "## **10.5 Opplysningsskilt**"
   ]
  },
  {
   "cell_type": "markdown",
   "metadata": {},
   "source": [
    "## **10.6 Serviceskilt**"
   ]
  },
  {
   "cell_type": "markdown",
   "metadata": {},
   "source": [
    "## **10.7 Vegvisningskilt**"
   ]
  },
  {
   "cell_type": "markdown",
   "metadata": {},
   "source": [
    "## **10.8 Underskilt**"
   ]
  },
  {
   "cell_type": "markdown",
   "metadata": {},
   "source": [
    "## **10.9 Markeringsskilt**"
   ]
  }
 ],
 "metadata": {
  "language_info": {
   "name": "python"
  }
 },
 "nbformat": 4,
 "nbformat_minor": 2
}
