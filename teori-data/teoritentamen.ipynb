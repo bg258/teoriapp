{
 "cells": [
  {
   "cell_type": "markdown",
   "metadata": {},
   "source": [
    "# **Teorikurs Bil** 🚗📚"
   ]
  },
  {
   "cell_type": "markdown",
   "metadata": {},
   "source": [
    "# **Kapittel 2 - Teknisk om bilen**"
   ]
  },
  {
   "cell_type": "markdown",
   "metadata": {},
   "source": [
    "## **2.0 Introduksjon**\n",
    "**Teknisk om bilen**\n",
    "\n",
    "Det er ditt ansvar at bilen du kjører ikke utgjør en fare for deg selv eller andre trafikanter. Derfor må du vite litt om hvordan bilen er satt sammen, hvilke sikkerhetssystemer som finnes i bilen og hvordan du kan kontrollere at bilen er trygg å kjøre. Det skal vi se på nå.Vi skal også se på reglene for kjøring med tilhenger.\n",
    "\n",
    "---"
   ]
  },
  {
   "cell_type": "markdown",
   "metadata": {},
   "source": [
    "## **2.1 Forsvarlig og forskriftsmessig stand**\n",
    "Du har ansvar for at bilen er i forsvarlig stand og i forskriftsmessig stand. Det står i veitrafikkloven.\n",
    "\n",
    "**Forskriftsmessig stand**\n",
    "\n",
    "At bilen er i forskriftsmessig stand betyr at den oppfyller alle tekniske krav som er stilt gjennom ulike regler og forskrifter. De du forventes å sjekke selv blir gjennomgått nærmere i dette kapittelet.\n",
    "\n",
    "**Forsvarlig stand**\n",
    "\n",
    "At bilen er i forsvarlig stand betyr i praksis at den er **trafikksikker** for:\n",
    "    * fører\n",
    "    * passasjerer\n",
    "    * andre trafikanter\n",
    "Hvis bilen ikke er i forsvarlig stand kan den ikke brukes, og du må avbryte kjøringen snarest mulig.\n",
    "\n",
    "💡*EKSEMPEL!*\n",
    "\n",
    "Du kjører til butikken midt på dagen, og oppdager at det ene frontlyset har sluttet å lyse. Dette betyr at bilen ikke lenger er i **forskriftsmessig stand.** Men ettersom det er lyst ute, er den fortsatt trygg å kjøre – den er fortsatt i forsvarlig stand.\n",
    "Så blir det kveld, og mørkt ute. Nå er det ikke lenger trygt å kjøre bilen. Den er ikke lenger i **forsvarlig stand**, og du må la den stå.Dagen etter, når det er lyst, er den igjen forsvarlig. Du bør kjøre å få reparert lyset nå som det er dagslys og god sikt.\n",
    "\n",
    "### **2.1.1 Sikkherhetsjekk**\n",
    "\n",
    "Det er mange ulike sikkerhetssjekker du kan gjennomføre for å kontrollere de enkelte delene av bilen – disse blir gjennomgått i mer detalj utover i kapittelet.\n",
    "\n",
    "Generelt bør du alltid undersøke nærmere eller ta kontakt med et verksted hvis bilens kjøreegenskaper endrer seg, eller du hører ulyder under kjøring. Ofte kan slike lyder nettopp være et varsel om at en del bør byttes ut eller repareres.\n",
    "\n",
    "### **2.1.2 Målere og varsellamper**\n",
    "\n",
    "På bilens dashbord finner du en rekke instrumenter som blant annet indikerer hastighet, turtall, motortemperatur og drivstoffnivå – informasjon som er relevant for kjøringen din. Videre finner du en rekke varsellamper som begynner å lyse når det oppstår feil i ulike systemer. Det er viktig å kjenne til hva de ulike lysene varsler og hva du skal gjøre når et av dem lyser opp ved start eller under kjøring.Lampene varierer noe i utforming og farge fra bil til bil – gjør deg kjent med hva lysene for din bil varsler ved å lese bilens instruksjonshefte.\n",
    "\n",
    "![Målere](figures/2_1.png)\n",
    "\n",
    "💡 **Alle varsellampene lyser!**\n",
    "\n",
    "Om varsellampene fungerer som de skal, vil alle lyse opp når du starter motoren, og slukkes automatisk etter noen sekunder. \n",
    "\n",
    "---"
   ]
  },
  {
   "cell_type": "markdown",
   "metadata": {},
   "source": []
  }
 ],
 "metadata": {
  "language_info": {
   "name": "python"
  }
 },
 "nbformat": 4,
 "nbformat_minor": 2
}
