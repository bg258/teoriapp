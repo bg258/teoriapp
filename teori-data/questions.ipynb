{
 "cells": [
  {
   "cell_type": "markdown",
   "metadata": {},
   "source": [
    "# Spørsmål 📚\n"
   ]
  },
  {
   "cell_type": "markdown",
   "metadata": {},
   "source": [
    "### **1. Hva er korrekt om bilens varsellamper?**\n",
    "Om varsellampene fungerer som de skal, vil alle lyse opp når du starter motoren, og slukkes automatisk etter noen sekunder. \n",
    "Lampenene varierer noe i  utforming og farge fra bil til bil - gjør det kjent med hva lysene for din bil varsler ved å lese\n",
    "bilens instruksjonshefte. \n",
    "\n",
    "### **2.Hvordan kan du oppdage feil ved bilen?**\n",
    "1. Ved å levere bilen til service eller EU-kontroll\n",
    "2. jeg hører ulyder under kjøring \n",
    "3. Kjøreegenskapene endrer seg. \n",
    "\n",
    "Det er altså mange forskjellige måter å oppdage feil ved bilen på. Siden det er ditt ansvar at bilen er i forskriftsmessig og forsvarlig stand når du skal kjøre, så bør du kjenne til disse.\n",
    "\n",
    "Vegtrafikkloven krever at fører før kjøring skal forvisse seg om at kjøretøyet er i forsvarlig og forskriftsmessig stand og at det er forsvarlig og forskriftsmessig lastet.\n",
    "\n",
    "Fører skal også sørge for at kjøretøyet under bruken er i forsvarlig stand og forsvarlig lastet\n",
    "\n",
    "Poenget er at du som sjåfør må vite at kjøretøyet er trafikksikkert – for eksempel at bremser og styring fungerer som det skal, at dekkene er av riktig type og har riktig mønsterdybde og at lysene fungerer som de skal.\n",
    "\n",
    "### **3.Hvordan kan du oppdage veil ved bilen?**\n",
    "1. Ved å gjennomføre ulike sikkerhetsjekker\n",
    "2. Varsellamper lyser\n",
    "\n",
    "Det er mange måter å merke feil ved bilen på, så du er ikke avhengig av et verksted for å oppdage dette.\n",
    "\n",
    "### **4.Hva vil det si at bilen er i forskriftsmessig stand?**\n",
    "1. At alt det tekniske på bilen er i orden\n",
    "\n",
    "Forskriftsmessig stand betyr at alt det tekniske på bilen er i orden.\n",
    "\n",
    "Bilen vil i mange tilfeller fortsatt være forsvarlig å bruke, selv om den skulle vise seg å ikke være i forskriftsmessig stand. Du bør få utbedret eventuelle feil på verksted ved første anledning.\n",
    "\n",
    "### **5. At bilen er i forsvarlig stand betyr at den...**\n",
    "- er trafikksikker for fører, passasjerer og andre trafikanter\n",
    "\n",
    "At en bil er i forsvarlig stand betyr at den er trygg å kjøre i de aktuelle kjøreforholdene.\n",
    "\n",
    "Forskriftsmessig stand betyr at alt det tekniske er i orden. En bil kan være forsvarlig selv om den ikke er i forskriftsmessig stand. For eksempel kan du kjøre en bil med ødelagt frontlykt om det er lyst ute og ellers gode kjøreforhold.\n",
    "\n",
    "Er det vanskeligere kjøreforhold kan en manglende frontlykt være uforsvarlig - og da har du ikke lov til å kjøre bilen. Derfor bør du alltid sørge for at bilen er i forskriftsmessig stand."
   ]
  }
 ],
 "metadata": {
  "language_info": {
   "name": "python"
  }
 },
 "nbformat": 4,
 "nbformat_minor": 2
}
